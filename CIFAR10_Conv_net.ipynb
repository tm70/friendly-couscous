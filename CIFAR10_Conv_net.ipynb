{
  "nbformat": 4,
  "nbformat_minor": 0,
  "metadata": {
    "colab": {
      "name": "CIFAR10 Conv net.ipynb",
      "provenance": [],
      "collapsed_sections": [],
      "include_colab_link": true
    },
    "kernelspec": {
      "name": "python3",
      "display_name": "Python 3"
    }
  },
  "cells": [
    {
      "cell_type": "markdown",
      "metadata": {
        "id": "view-in-github",
        "colab_type": "text"
      },
      "source": [
        "<a href=\"https://colab.research.google.com/github/tm70/friendly-couscous/blob/master/CIFAR10_Conv_net.ipynb\" target=\"_parent\"><img src=\"https://colab.research.google.com/assets/colab-badge.svg\" alt=\"Open In Colab\"/></a>"
      ]
    },
    {
      "cell_type": "code",
      "metadata": {
        "id": "7RYrBFYtuo1x"
      },
      "source": [
        "import tensorflow as tf\n",
        "import numpy as np\n",
        "from tensorflow.keras.datasets import cifar10\n",
        "from tensorflow.keras.layers import Input, Dense, Conv2D, MaxPooling2D, Flatten, Dropout\n",
        "from tensorflow.keras.models import Model"
      ],
      "execution_count": null,
      "outputs": []
    },
    {
      "cell_type": "code",
      "metadata": {
        "id": "39KcEHDF4fUB",
        "outputId": "efd71f2b-39e0-4b63-9db0-267ad7e85765",
        "colab": {
          "base_uri": "https://localhost:8080/",
          "height": 85
        }
      },
      "source": [
        "(X_train, y_train), (X_test, y_test) = cifar10.load_data()\n",
        "print(X_train.shape)\n",
        "print(y_train.shape)\n",
        "print(X_test.shape)\n",
        "print(y_test.shape)\n",
        "\n",
        "n, a, b, c = X_train.shape"
      ],
      "execution_count": null,
      "outputs": [
        {
          "output_type": "stream",
          "text": [
            "(50000, 32, 32, 3)\n",
            "(50000, 1)\n",
            "(10000, 32, 32, 3)\n",
            "(10000, 1)\n"
          ],
          "name": "stdout"
        }
      ]
    },
    {
      "cell_type": "code",
      "metadata": {
        "id": "mQKqsM53yiNi"
      },
      "source": [
        "filters = 32\n",
        "size = (3,3)\n",
        "batch_size = 64\n",
        "epochs = 25\n",
        "\n",
        "#create the network\n",
        "inputs = Input(shape=(a, b, c))\n",
        "net1 = Conv2D(filters, size, padding=\"same\", activation=\"relu\")(inputs)\n",
        "net2 = Conv2D(filters, size, padding=\"same\", activation=\"relu\")(net1)\n",
        "pool1 = MaxPooling2D(pool_size=(2,2))(net2)\n",
        "drop1 = Dropout(0.2)(pool1)\n",
        "net3 = Conv2D(filters * 2, size, padding=\"same\", activation=\"relu\")(drop1)\n",
        "net4 = Conv2D(filters * 2, size, padding=\"same\", activation=\"relu\")(net3)\n",
        "pool2 = MaxPooling2D(pool_size=(2,2))(net4)\n",
        "drop2 = Dropout(0.2)(pool2)\n",
        "net5 = Conv2D(filters * 4, size, padding=\"same\", activation=\"relu\")(drop2)\n",
        "net6 = Conv2D(filters * 4, size, padding=\"same\", activation=\"relu\")(net5)\n",
        "pool3 = MaxPooling2D(pool_size=(2,2))(net6)\n",
        "drop3 = Dropout(0.2)(pool3)\n",
        "flat = Flatten()(drop3)\n",
        "dense1 = Dense(128, activation=\"relu\")(flat)\n",
        "output = Dense(10, activation=\"softmax\")(dense1)\n",
        "\n",
        "model = Model(inputs, output)"
      ],
      "execution_count": null,
      "outputs": []
    },
    {
      "cell_type": "code",
      "metadata": {
        "id": "NJ-AFr1TvQsM",
        "outputId": "e0ff0c0e-2963-4025-e430-9af9e9b8f10d",
        "colab": {
          "base_uri": "https://localhost:8080/",
          "height": 874
        }
      },
      "source": [
        "model.compile(optimizer='adam', loss='sparse_categorical_crossentropy', metrics = ['accuracy'])\n",
        "history = model.fit(X_train, y_train, epochs=epochs, batch_size=batch_size, shuffle=True, validation_data=(X_test, y_test))"
      ],
      "execution_count": null,
      "outputs": [
        {
          "output_type": "stream",
          "text": [
            "Train on 50000 samples, validate on 10000 samples\n",
            "Epoch 1/25\n",
            "50000/50000 [==============================] - 390s 8ms/sample - loss: 1.7417 - acc: 0.3840 - val_loss: 1.3104 - val_acc: 0.5310\n",
            "Epoch 2/25\n",
            "50000/50000 [==============================] - 396s 8ms/sample - loss: 1.2150 - acc: 0.5682 - val_loss: 1.0792 - val_acc: 0.6219\n",
            "Epoch 3/25\n",
            "50000/50000 [==============================] - 388s 8ms/sample - loss: 1.0458 - acc: 0.6301 - val_loss: 0.9628 - val_acc: 0.6587\n",
            "Epoch 4/25\n",
            "50000/50000 [==============================] - 387s 8ms/sample - loss: 0.9265 - acc: 0.6754 - val_loss: 0.8520 - val_acc: 0.6990\n",
            "Epoch 5/25\n",
            "50000/50000 [==============================] - 385s 8ms/sample - loss: 0.8415 - acc: 0.7059 - val_loss: 0.8106 - val_acc: 0.7217\n",
            "Epoch 6/25\n",
            "50000/50000 [==============================] - 385s 8ms/sample - loss: 0.7982 - acc: 0.7205 - val_loss: 0.7700 - val_acc: 0.7314\n",
            "Epoch 7/25\n",
            "50000/50000 [==============================] - 390s 8ms/sample - loss: 0.7545 - acc: 0.7368 - val_loss: 0.7646 - val_acc: 0.7417\n",
            "Epoch 8/25\n",
            "50000/50000 [==============================] - 392s 8ms/sample - loss: 0.7123 - acc: 0.7491 - val_loss: 0.7391 - val_acc: 0.7468\n",
            "Epoch 9/25\n",
            "50000/50000 [==============================] - 393s 8ms/sample - loss: 0.6869 - acc: 0.7594 - val_loss: 0.7401 - val_acc: 0.7490\n",
            "Epoch 10/25\n",
            "50000/50000 [==============================] - 390s 8ms/sample - loss: 0.6665 - acc: 0.7669 - val_loss: 0.7269 - val_acc: 0.7549\n",
            "Epoch 11/25\n",
            "50000/50000 [==============================] - 388s 8ms/sample - loss: 0.6425 - acc: 0.7773 - val_loss: 0.7198 - val_acc: 0.7595\n",
            "Epoch 12/25\n",
            "50000/50000 [==============================] - 385s 8ms/sample - loss: 0.6212 - acc: 0.7835 - val_loss: 0.7064 - val_acc: 0.7559\n",
            "Epoch 13/25\n",
            "50000/50000 [==============================] - 384s 8ms/sample - loss: 0.6001 - acc: 0.7905 - val_loss: 0.6927 - val_acc: 0.7666\n",
            "Epoch 14/25\n",
            "50000/50000 [==============================] - 391s 8ms/sample - loss: 0.5855 - acc: 0.7942 - val_loss: 0.6864 - val_acc: 0.7732\n",
            "Epoch 15/25\n",
            "50000/50000 [==============================] - 393s 8ms/sample - loss: 0.5762 - acc: 0.7989 - val_loss: 0.6805 - val_acc: 0.7690\n",
            "Epoch 16/25\n",
            "50000/50000 [==============================] - 393s 8ms/sample - loss: 0.5650 - acc: 0.8033 - val_loss: 0.6691 - val_acc: 0.7796\n",
            "Epoch 17/25\n",
            "50000/50000 [==============================] - 391s 8ms/sample - loss: 0.5451 - acc: 0.8078 - val_loss: 0.6944 - val_acc: 0.7706\n",
            "Epoch 18/25\n",
            "50000/50000 [==============================] - 384s 8ms/sample - loss: 0.5294 - acc: 0.8151 - val_loss: 0.6974 - val_acc: 0.7710\n",
            "Epoch 19/25\n",
            "50000/50000 [==============================] - 398s 8ms/sample - loss: 0.5260 - acc: 0.8159 - val_loss: 0.7148 - val_acc: 0.7659\n",
            "Epoch 20/25\n",
            "50000/50000 [==============================] - 394s 8ms/sample - loss: 0.5093 - acc: 0.8217 - val_loss: 0.7072 - val_acc: 0.7704\n",
            "Epoch 21/25\n",
            "50000/50000 [==============================] - 383s 8ms/sample - loss: 0.5140 - acc: 0.8218 - val_loss: 0.7037 - val_acc: 0.7745\n",
            "Epoch 22/25\n",
            "50000/50000 [==============================] - 392s 8ms/sample - loss: 0.4961 - acc: 0.8277 - val_loss: 0.6929 - val_acc: 0.7798\n",
            "Epoch 23/25\n",
            "50000/50000 [==============================] - 385s 8ms/sample - loss: 0.4841 - acc: 0.8324 - val_loss: 0.7825 - val_acc: 0.7604\n",
            "Epoch 24/25\n",
            "50000/50000 [==============================] - 396s 8ms/sample - loss: 0.4943 - acc: 0.8284 - val_loss: 0.7277 - val_acc: 0.7707\n",
            "Epoch 25/25\n",
            "50000/50000 [==============================] - 397s 8ms/sample - loss: 0.4801 - acc: 0.8338 - val_loss: 0.7209 - val_acc: 0.7773\n"
          ],
          "name": "stdout"
        }
      ]
    },
    {
      "cell_type": "code",
      "metadata": {
        "id": "10a-jaLYy15-"
      },
      "source": [
        "predictions = model.predict(X_test)"
      ],
      "execution_count": null,
      "outputs": []
    },
    {
      "cell_type": "code",
      "metadata": {
        "id": "YybfVA0avrql",
        "outputId": "3799b046-4a75-4adb-baeb-68ef5e23b94b",
        "colab": {
          "base_uri": "https://localhost:8080/",
          "height": 302
        }
      },
      "source": [
        "#reverse one-hot encoding\n",
        "predictions = np.argmax(predictions, axis=1)\n",
        "\n",
        "#print performance to compare with previous RF versions\n",
        "from sklearn.metrics import classification_report\n",
        "\n",
        "print(classification_report(y_test, predictions))"
      ],
      "execution_count": null,
      "outputs": [
        {
          "output_type": "stream",
          "text": [
            "              precision    recall  f1-score   support\n",
            "\n",
            "           0       0.77      0.83      0.80      1000\n",
            "           1       0.87      0.91      0.89      1000\n",
            "           2       0.67      0.70      0.69      1000\n",
            "           3       0.63      0.58      0.60      1000\n",
            "           4       0.62      0.87      0.72      1000\n",
            "           5       0.77      0.62      0.69      1000\n",
            "           6       0.89      0.77      0.82      1000\n",
            "           7       0.89      0.77      0.82      1000\n",
            "           8       0.85      0.91      0.88      1000\n",
            "           9       0.90      0.82      0.86      1000\n",
            "\n",
            "    accuracy                           0.78     10000\n",
            "   macro avg       0.79      0.78      0.78     10000\n",
            "weighted avg       0.79      0.78      0.78     10000\n",
            "\n"
          ],
          "name": "stdout"
        }
      ]
    },
    {
      "cell_type": "code",
      "metadata": {
        "id": "-0SYkLNBhYSh",
        "outputId": "6e008e1c-b507-42fd-ceed-15488a83fd33",
        "colab": {
          "base_uri": "https://localhost:8080/",
          "height": 590
        }
      },
      "source": [
        "import matplotlib.pyplot as plt\n",
        "print(history.history.keys())\n",
        "# summarize history for accuracy\n",
        "plt.plot(history.history.get('acc'))\n",
        "plt.plot(history.history['val_acc'])\n",
        "plt.title('model accuracy')\n",
        "plt.ylabel('accuracy')\n",
        "plt.xlabel('epoch')\n",
        "plt.legend(['train', 'test'], loc='upper left')\n",
        "plt.show()\n",
        "# summarize history for loss\n",
        "plt.plot(history.history['loss'])\n",
        "plt.plot(history.history['val_loss'])\n",
        "plt.title('model loss')\n",
        "plt.ylabel('loss')\n",
        "plt.xlabel('epoch')\n",
        "plt.legend(['train', 'test'], loc='upper left')\n",
        "plt.show()"
      ],
      "execution_count": null,
      "outputs": [
        {
          "output_type": "stream",
          "text": [
            "dict_keys(['loss', 'acc', 'val_loss', 'val_acc'])\n"
          ],
          "name": "stdout"
        },
        {
          "output_type": "display_data",
          "data": {
            "image/png": "[encoded data removed]",
            "text/plain": [
              "<Figure size 432x288 with 1 Axes>"
            ]
          },
          "metadata": {
            "tags": []
          }
        },
        {
          "output_type": "display_data",
          "data": {
            "image/png": "[encoded data removed]",
            "text/plain": [
              "<Figure size 432x288 with 1 Axes>"
            ]
          },
          "metadata": {
            "tags": []
          }
        }
      ]
    }
  ]
}
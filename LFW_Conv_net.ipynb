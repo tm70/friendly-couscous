{
  "nbformat": 4,
  "nbformat_minor": 0,
  "metadata": {
    "colab": {
      "name": "LFW Conv net.ipynb",
      "provenance": [],
      "collapsed_sections": [],
      "include_colab_link": true
    },
    "kernelspec": {
      "name": "python3",
      "display_name": "Python 3"
    }
  },
  "cells": [
    {
      "cell_type": "markdown",
      "metadata": {
        "id": "view-in-github",
        "colab_type": "text"
      },
      "source": [
        "<a href=\"https://colab.research.google.com/github/tm70/friendly-couscous/blob/master/LFW_Conv_net.ipynb\" target=\"_parent\"><img src=\"https://colab.research.google.com/assets/colab-badge.svg\" alt=\"Open In Colab\"/></a>"
      ]
    },
    {
      "cell_type": "code",
      "metadata": {
        "id": "7RYrBFYtuo1x"
      },
      "source": [
        "import tensorflow as tf\n",
        "import numpy as np\n",
        "from sklearn.datasets import fetch_lfw_people\n",
        "from sklearn.model_selection import train_test_split\n",
        "from tensorflow.keras.layers import Input, Dense, Conv2D, MaxPooling2D, Flatten\n",
        "from tensorflow.keras.models import Model"
      ],
      "execution_count": 1,
      "outputs": []
    },
    {
      "cell_type": "code",
      "metadata": {
        "id": "0bN9p2psws2h",
        "outputId": "35e036dc-66bf-4459-9ded-ce62edb5d65b",
        "colab": {
          "base_uri": "https://localhost:8080/",
          "height": 218
        }
      },
      "source": [
        "# Download the data, if not already on disk and load it as numpy arrays\n",
        "lfw_people = fetch_lfw_people(min_faces_per_person=70, resize=0.4)\n",
        "# introspect the images arrays to find the shapes (for plotting)\n",
        "n_samples, h, w = lfw_people.images.shape\n",
        "# for machine learning we use the 2 data directly (as relative pixel\n",
        "# positions info is ignored by this model)\n",
        "X = lfw_people.data\n",
        "n_features = X.shape[1]\n",
        "# the label to predict is the id of the person\n",
        "y = lfw_people.target\n",
        "target_names = lfw_people.target_names\n",
        "n_classes = target_names.shape[0]\n",
        "\n",
        "print(\"Total dataset size:\")\n",
        "print(\"n_samples: %d\" % n_samples)\n",
        "print(\"n_features: %d\" % n_features)\n",
        "print(\"n_classes: %d\" % n_classes)\n",
        "\n",
        "# Split into a training set and a test set using a stratified k fold\n",
        "X_train, X_test, y_train, y_test = train_test_split(X, y, test_size=0.25, random_state=42)\n",
        "\n",
        "print(X_train.shape)\n",
        "print(X_test.shape)\n",
        "\n",
        "X_train = X_train.astype('float32') / 255.\n",
        "X_test = X_test.astype('float32') / 255.\n",
        "X_train = X_train.reshape(len(X_train), h, w, 1)\n",
        "X_test = X_test.reshape(len(X_test), h, w, 1)\n",
        "\n",
        "print(X_train.shape)\n",
        "print(X_test.shape)"
      ],
      "execution_count": 2,
      "outputs": [
        {
          "output_type": "stream",
          "text": [
            "Downloading LFW metadata: https://ndownloader.figshare.com/files/5976012\n",
            "Downloading LFW metadata: https://ndownloader.figshare.com/files/5976009\n",
            "Downloading LFW metadata: https://ndownloader.figshare.com/files/5976006\n",
            "Downloading LFW data (~200MB): https://ndownloader.figshare.com/files/5976015\n"
          ],
          "name": "stderr"
        },
        {
          "output_type": "stream",
          "text": [
            "Total dataset size:\n",
            "n_samples: 1288\n",
            "n_features: 1850\n",
            "n_classes: 7\n",
            "(966, 1850)\n",
            "(322, 1850)\n",
            "(966, 50, 37, 1)\n",
            "(322, 50, 37, 1)\n"
          ],
          "name": "stdout"
        }
      ]
    },
    {
      "cell_type": "code",
      "metadata": {
        "id": "mQKqsM53yiNi"
      },
      "source": [
        "filters = 32\n",
        "size = (3,3)\n",
        "batch_size = 256\n",
        "epochs = 50\n",
        "\n",
        "#create the network\n",
        "inputs = Input(shape=(h,w,1))\n",
        "net1 = Conv2D(filters, size, padding=\"same\", activation=\"relu\")(inputs)\n",
        "pool1 = MaxPooling2D(pool_size=(2,2))(net1)\n",
        "net2 = Conv2D(filters, size, padding=\"same\", activation=\"relu\")(pool1)\n",
        "pool2 = MaxPooling2D(pool_size=(2,2))(net2)\n",
        "flat = Flatten()(pool2)\n",
        "flat = Flatten()(inputs)\n",
        "dense1 = Dense(128, activation=\"relu\")(flat)\n",
        "output = Dense(n_classes, activation=\"softmax\")(dense1)\n",
        "\n",
        "model = Model(inputs, output)"
      ],
      "execution_count": 3,
      "outputs": []
    },
    {
      "cell_type": "code",
      "metadata": {
        "id": "NJ-AFr1TvQsM",
        "outputId": "d837d49b-dc80-4ed6-a70c-34ca68405e4c",
        "colab": {
          "base_uri": "https://localhost:8080/",
          "height": 1000
        }
      },
      "source": [
        "model.compile(optimizer='adam', loss='sparse_categorical_crossentropy', metrics = ['accuracy'])\n",
        "model.fit(X_train, y_train, epochs=epochs, batch_size=batch_size, shuffle=True, validation_data=(X_test, y_test))"
      ],
      "execution_count": 4,
      "outputs": [
        {
          "output_type": "stream",
          "text": [
            "Epoch 1/50\n",
            "4/4 [==============================] - 0s 46ms/step - loss: 2.3201 - accuracy: 0.2050 - val_loss: 1.9256 - val_accuracy: 0.2267\n",
            "Epoch 2/50\n",
            "4/4 [==============================] - 0s 12ms/step - loss: 1.9512 - accuracy: 0.3447 - val_loss: 1.7481 - val_accuracy: 0.3634\n",
            "Epoch 3/50\n",
            "4/4 [==============================] - 0s 12ms/step - loss: 1.7692 - accuracy: 0.3230 - val_loss: 1.6262 - val_accuracy: 0.4534\n",
            "Epoch 4/50\n",
            "4/4 [==============================] - 0s 12ms/step - loss: 1.7742 - accuracy: 0.3975 - val_loss: 1.6210 - val_accuracy: 0.4534\n",
            "Epoch 5/50\n",
            "4/4 [==============================] - 0s 13ms/step - loss: 1.6733 - accuracy: 0.4151 - val_loss: 1.5644 - val_accuracy: 0.4845\n",
            "Epoch 6/50\n",
            "4/4 [==============================] - 0s 12ms/step - loss: 1.6373 - accuracy: 0.4172 - val_loss: 1.5109 - val_accuracy: 0.4596\n",
            "Epoch 7/50\n",
            "4/4 [==============================] - 0s 12ms/step - loss: 1.5885 - accuracy: 0.4337 - val_loss: 1.5141 - val_accuracy: 0.5000\n",
            "Epoch 8/50\n",
            "4/4 [==============================] - 0s 12ms/step - loss: 1.5615 - accuracy: 0.4420 - val_loss: 1.4756 - val_accuracy: 0.4627\n",
            "Epoch 9/50\n",
            "4/4 [==============================] - 0s 12ms/step - loss: 1.5372 - accuracy: 0.4337 - val_loss: 1.4599 - val_accuracy: 0.5093\n",
            "Epoch 10/50\n",
            "4/4 [==============================] - 0s 12ms/step - loss: 1.5042 - accuracy: 0.4710 - val_loss: 1.4137 - val_accuracy: 0.4845\n",
            "Epoch 11/50\n",
            "4/4 [==============================] - 0s 12ms/step - loss: 1.4816 - accuracy: 0.4524 - val_loss: 1.4236 - val_accuracy: 0.5186\n",
            "Epoch 12/50\n",
            "4/4 [==============================] - 0s 14ms/step - loss: 1.4572 - accuracy: 0.4669 - val_loss: 1.3933 - val_accuracy: 0.4969\n",
            "Epoch 13/50\n",
            "4/4 [==============================] - 0s 13ms/step - loss: 1.4290 - accuracy: 0.4772 - val_loss: 1.3641 - val_accuracy: 0.5217\n",
            "Epoch 14/50\n",
            "4/4 [==============================] - 0s 15ms/step - loss: 1.4064 - accuracy: 0.4834 - val_loss: 1.3410 - val_accuracy: 0.5248\n",
            "Epoch 15/50\n",
            "4/4 [==============================] - 0s 12ms/step - loss: 1.3838 - accuracy: 0.4948 - val_loss: 1.3366 - val_accuracy: 0.5342\n",
            "Epoch 16/50\n",
            "4/4 [==============================] - 0s 13ms/step - loss: 1.3581 - accuracy: 0.5000 - val_loss: 1.3059 - val_accuracy: 0.5217\n",
            "Epoch 17/50\n",
            "4/4 [==============================] - 0s 13ms/step - loss: 1.3400 - accuracy: 0.5021 - val_loss: 1.2895 - val_accuracy: 0.5559\n",
            "Epoch 18/50\n",
            "4/4 [==============================] - 0s 12ms/step - loss: 1.3155 - accuracy: 0.5166 - val_loss: 1.2763 - val_accuracy: 0.5435\n",
            "Epoch 19/50\n",
            "4/4 [==============================] - 0s 12ms/step - loss: 1.2944 - accuracy: 0.5280 - val_loss: 1.2610 - val_accuracy: 0.5683\n",
            "Epoch 20/50\n",
            "4/4 [==============================] - 0s 12ms/step - loss: 1.2747 - accuracy: 0.5259 - val_loss: 1.2259 - val_accuracy: 0.5652\n",
            "Epoch 21/50\n",
            "4/4 [==============================] - 0s 12ms/step - loss: 1.2497 - accuracy: 0.5569 - val_loss: 1.2256 - val_accuracy: 0.5776\n",
            "Epoch 22/50\n",
            "4/4 [==============================] - 0s 13ms/step - loss: 1.2335 - accuracy: 0.5362 - val_loss: 1.1979 - val_accuracy: 0.5807\n",
            "Epoch 23/50\n",
            "4/4 [==============================] - 0s 13ms/step - loss: 1.2168 - accuracy: 0.5642 - val_loss: 1.1750 - val_accuracy: 0.5745\n",
            "Epoch 24/50\n",
            "4/4 [==============================] - 0s 13ms/step - loss: 1.1929 - accuracy: 0.5414 - val_loss: 1.1770 - val_accuracy: 0.6242\n",
            "Epoch 25/50\n",
            "4/4 [==============================] - 0s 13ms/step - loss: 1.1818 - accuracy: 0.5807 - val_loss: 1.1464 - val_accuracy: 0.5714\n",
            "Epoch 26/50\n",
            "4/4 [==============================] - 0s 13ms/step - loss: 1.1626 - accuracy: 0.5466 - val_loss: 1.1651 - val_accuracy: 0.6149\n",
            "Epoch 27/50\n",
            "4/4 [==============================] - 0s 12ms/step - loss: 1.1441 - accuracy: 0.5994 - val_loss: 1.1279 - val_accuracy: 0.5652\n",
            "Epoch 28/50\n",
            "4/4 [==============================] - 0s 12ms/step - loss: 1.1342 - accuracy: 0.5797 - val_loss: 1.1212 - val_accuracy: 0.6211\n",
            "Epoch 29/50\n",
            "4/4 [==============================] - 0s 15ms/step - loss: 1.1081 - accuracy: 0.5983 - val_loss: 1.0864 - val_accuracy: 0.6149\n",
            "Epoch 30/50\n",
            "4/4 [==============================] - 0s 12ms/step - loss: 1.0874 - accuracy: 0.6242 - val_loss: 1.0833 - val_accuracy: 0.6211\n",
            "Epoch 31/50\n",
            "4/4 [==============================] - 0s 13ms/step - loss: 1.0724 - accuracy: 0.6180 - val_loss: 1.0640 - val_accuracy: 0.6366\n",
            "Epoch 32/50\n",
            "4/4 [==============================] - 0s 12ms/step - loss: 1.0406 - accuracy: 0.6232 - val_loss: 1.0482 - val_accuracy: 0.6615\n",
            "Epoch 33/50\n",
            "4/4 [==============================] - 0s 12ms/step - loss: 1.0296 - accuracy: 0.6605 - val_loss: 1.0240 - val_accuracy: 0.6242\n",
            "Epoch 34/50\n",
            "4/4 [==============================] - 0s 13ms/step - loss: 1.0190 - accuracy: 0.6263 - val_loss: 1.0925 - val_accuracy: 0.6894\n",
            "Epoch 35/50\n",
            "4/4 [==============================] - 0s 12ms/step - loss: 1.0097 - accuracy: 0.6843 - val_loss: 1.0140 - val_accuracy: 0.6273\n",
            "Epoch 36/50\n",
            "4/4 [==============================] - 0s 13ms/step - loss: 0.9982 - accuracy: 0.6708 - val_loss: 0.9935 - val_accuracy: 0.6957\n",
            "Epoch 37/50\n",
            "4/4 [==============================] - 0s 12ms/step - loss: 0.9813 - accuracy: 0.6470 - val_loss: 1.0260 - val_accuracy: 0.7050\n",
            "Epoch 38/50\n",
            "4/4 [==============================] - 0s 12ms/step - loss: 0.9818 - accuracy: 0.7019 - val_loss: 0.9725 - val_accuracy: 0.6304\n",
            "Epoch 39/50\n",
            "4/4 [==============================] - 0s 12ms/step - loss: 0.9509 - accuracy: 0.6801 - val_loss: 0.9590 - val_accuracy: 0.7112\n",
            "Epoch 40/50\n",
            "4/4 [==============================] - 0s 12ms/step - loss: 0.9300 - accuracy: 0.6853 - val_loss: 0.9689 - val_accuracy: 0.6957\n",
            "Epoch 41/50\n",
            "4/4 [==============================] - 0s 13ms/step - loss: 0.9249 - accuracy: 0.6946 - val_loss: 0.9509 - val_accuracy: 0.6894\n",
            "Epoch 42/50\n",
            "4/4 [==============================] - 0s 13ms/step - loss: 0.9083 - accuracy: 0.7464 - val_loss: 0.9203 - val_accuracy: 0.6708\n",
            "Epoch 43/50\n",
            "4/4 [==============================] - 0s 14ms/step - loss: 0.8868 - accuracy: 0.6936 - val_loss: 0.9573 - val_accuracy: 0.7360\n",
            "Epoch 44/50\n",
            "4/4 [==============================] - 0s 15ms/step - loss: 0.8638 - accuracy: 0.7567 - val_loss: 0.9024 - val_accuracy: 0.6801\n",
            "Epoch 45/50\n",
            "4/4 [==============================] - 0s 12ms/step - loss: 0.8569 - accuracy: 0.7298 - val_loss: 0.9189 - val_accuracy: 0.7453\n",
            "Epoch 46/50\n",
            "4/4 [==============================] - 0s 14ms/step - loss: 0.8485 - accuracy: 0.7360 - val_loss: 0.8728 - val_accuracy: 0.7267\n",
            "Epoch 47/50\n",
            "4/4 [==============================] - 0s 13ms/step - loss: 0.8238 - accuracy: 0.7681 - val_loss: 0.8670 - val_accuracy: 0.7422\n",
            "Epoch 48/50\n",
            "4/4 [==============================] - 0s 12ms/step - loss: 0.8147 - accuracy: 0.7381 - val_loss: 0.8499 - val_accuracy: 0.7391\n",
            "Epoch 49/50\n",
            "4/4 [==============================] - 0s 13ms/step - loss: 0.8044 - accuracy: 0.7464 - val_loss: 0.8516 - val_accuracy: 0.7422\n",
            "Epoch 50/50\n",
            "4/4 [==============================] - 0s 12ms/step - loss: 0.7921 - accuracy: 0.7547 - val_loss: 0.8459 - val_accuracy: 0.7422\n"
          ],
          "name": "stdout"
        },
        {
          "output_type": "execute_result",
          "data": {
            "text/plain": [
              "<tensorflow.python.keras.callbacks.History at 0x7f891a9786d8>"
            ]
          },
          "metadata": {
            "tags": []
          },
          "execution_count": 4
        }
      ]
    },
    {
      "cell_type": "code",
      "metadata": {
        "id": "10a-jaLYy15-"
      },
      "source": [
        "predictions = model.predict(X_test)"
      ],
      "execution_count": 5,
      "outputs": []
    },
    {
      "cell_type": "code",
      "metadata": {
        "id": "YybfVA0avrql",
        "outputId": "ac309fae-9f6c-49e8-e514-0c034a417caf",
        "colab": {
          "base_uri": "https://localhost:8080/",
          "height": 252
        }
      },
      "source": [
        "#reverse one-hot encoding\n",
        "predictions = np.argmax(predictions, axis=1)\n",
        "\n",
        "#print performance to compare with previous RF versions\n",
        "from sklearn.metrics import classification_report\n",
        "\n",
        "print(classification_report(y_test, predictions))"
      ],
      "execution_count": 6,
      "outputs": [
        {
          "output_type": "stream",
          "text": [
            "              precision    recall  f1-score   support\n",
            "\n",
            "           0       0.88      0.54      0.67        13\n",
            "           1       0.84      0.82      0.83        60\n",
            "           2       0.64      0.52      0.57        27\n",
            "           3       0.73      0.93      0.82       146\n",
            "           4       0.85      0.44      0.58        25\n",
            "           5       1.00      0.27      0.42        15\n",
            "           6       0.60      0.50      0.55        36\n",
            "\n",
            "    accuracy                           0.74       322\n",
            "   macro avg       0.79      0.57      0.63       322\n",
            "weighted avg       0.76      0.74      0.73       322\n",
            "\n"
          ],
          "name": "stdout"
        }
      ]
    }
  ]
}